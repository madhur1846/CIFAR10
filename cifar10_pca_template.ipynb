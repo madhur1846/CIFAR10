{
 "cells": [
  {
   "cell_type": "code",
   "execution_count": 2,
   "metadata": {},
   "outputs": [
    {
     "name": "stderr",
     "output_type": "stream",
     "text": [
      "Using TensorFlow backend.\n",
      "/usr/local/anaconda3/lib/python3.7/site-packages/tensorflow/python/framework/dtypes.py:526: FutureWarning: Passing (type, 1) or '1type' as a synonym of type is deprecated; in a future version of numpy, it will be understood as (type, (1,)) / '(1,)type'.\n",
      "  _np_qint8 = np.dtype([(\"qint8\", np.int8, 1)])\n",
      "/usr/local/anaconda3/lib/python3.7/site-packages/tensorflow/python/framework/dtypes.py:527: FutureWarning: Passing (type, 1) or '1type' as a synonym of type is deprecated; in a future version of numpy, it will be understood as (type, (1,)) / '(1,)type'.\n",
      "  _np_quint8 = np.dtype([(\"quint8\", np.uint8, 1)])\n",
      "/usr/local/anaconda3/lib/python3.7/site-packages/tensorflow/python/framework/dtypes.py:528: FutureWarning: Passing (type, 1) or '1type' as a synonym of type is deprecated; in a future version of numpy, it will be understood as (type, (1,)) / '(1,)type'.\n",
      "  _np_qint16 = np.dtype([(\"qint16\", np.int16, 1)])\n",
      "/usr/local/anaconda3/lib/python3.7/site-packages/tensorflow/python/framework/dtypes.py:529: FutureWarning: Passing (type, 1) or '1type' as a synonym of type is deprecated; in a future version of numpy, it will be understood as (type, (1,)) / '(1,)type'.\n",
      "  _np_quint16 = np.dtype([(\"quint16\", np.uint16, 1)])\n",
      "/usr/local/anaconda3/lib/python3.7/site-packages/tensorflow/python/framework/dtypes.py:530: FutureWarning: Passing (type, 1) or '1type' as a synonym of type is deprecated; in a future version of numpy, it will be understood as (type, (1,)) / '(1,)type'.\n",
      "  _np_qint32 = np.dtype([(\"qint32\", np.int32, 1)])\n",
      "/usr/local/anaconda3/lib/python3.7/site-packages/tensorflow/python/framework/dtypes.py:535: FutureWarning: Passing (type, 1) or '1type' as a synonym of type is deprecated; in a future version of numpy, it will be understood as (type, (1,)) / '(1,)type'.\n",
      "  np_resource = np.dtype([(\"resource\", np.ubyte, 1)])\n"
     ]
    }
   ],
   "source": [
    "%matplotlib inline\n",
    "import numpy as np\n",
    "import matplotlib\n",
    "import cifar10\n",
    "from matplotlib import pyplot as plt\n",
    "from keras.models import Sequential\n",
    "from keras.optimizers import Adam, SGD\n",
    "from keras.callbacks import ModelCheckpoint\n",
    "from keras.constraints import maxnorm\n",
    "from keras.models import load_model\n",
    "from keras.layers import GlobalAveragePooling2D, Lambda, Conv2D, MaxPooling2D, Dropout, Dense, Flatten, Activation\n",
    "from keras.preprocessing.image import ImageDataGenerator"
   ]
  },
  {
   "cell_type": "code",
   "execution_count": 1,
   "metadata": {},
   "outputs": [],
   "source": [
    "# import cifar10\n",
    "# import matplotlib.pyplot as plt"
   ]
  },
  {
   "cell_type": "code",
   "execution_count": 3,
   "metadata": {},
   "outputs": [],
   "source": [
    "cifar10.data_path = \"data/CIFAR-10/\""
   ]
  },
  {
   "cell_type": "code",
   "execution_count": 4,
   "metadata": {},
   "outputs": [
    {
     "name": "stdout",
     "output_type": "stream",
     "text": [
      "Data has apparently already been downloaded and unpacked.\n"
     ]
    }
   ],
   "source": [
    "cifar10.maybe_download_and_extract()"
   ]
  },
  {
   "cell_type": "code",
   "execution_count": 5,
   "metadata": {},
   "outputs": [
    {
     "name": "stdout",
     "output_type": "stream",
     "text": [
      "Loading data: data/CIFAR-10/cifar-10-batches-py/batches.meta\n"
     ]
    },
    {
     "data": {
      "text/plain": [
       "['airplane',\n",
       " 'automobile',\n",
       " 'bird',\n",
       " 'cat',\n",
       " 'deer',\n",
       " 'dog',\n",
       " 'frog',\n",
       " 'horse',\n",
       " 'ship',\n",
       " 'truck']"
      ]
     },
     "execution_count": 5,
     "metadata": {},
     "output_type": "execute_result"
    }
   ],
   "source": [
    "class_names = cifar10.load_class_names()\n",
    "class_names"
   ]
  },
  {
   "cell_type": "code",
   "execution_count": 6,
   "metadata": {},
   "outputs": [
    {
     "name": "stdout",
     "output_type": "stream",
     "text": [
      "10\n"
     ]
    }
   ],
   "source": [
    "num_classes = len(class_names)\n",
    "print(num_classes)"
   ]
  },
  {
   "cell_type": "code",
   "execution_count": 11,
   "metadata": {},
   "outputs": [
    {
     "name": "stdout",
     "output_type": "stream",
     "text": [
      "[6 9 9 ... 9 1 1]\n"
     ]
    }
   ],
   "source": [
    "print(labels_train)"
   ]
  },
  {
   "cell_type": "code",
   "execution_count": 10,
   "metadata": {},
   "outputs": [
    {
     "name": "stdout",
     "output_type": "stream",
     "text": [
      "[[0. 0. 0. ... 0. 0. 0.]\n",
      " [0. 0. 0. ... 0. 0. 1.]\n",
      " [0. 0. 0. ... 0. 0. 1.]\n",
      " ...\n",
      " [0. 0. 0. ... 0. 0. 1.]\n",
      " [0. 1. 0. ... 0. 0. 0.]\n",
      " [0. 1. 0. ... 0. 0. 0.]]\n"
     ]
    }
   ],
   "source": [
    "print(class_train)"
   ]
  },
  {
   "cell_type": "code",
   "execution_count": 9,
   "metadata": {},
   "outputs": [
    {
     "name": "stdout",
     "output_type": "stream",
     "text": [
      "Loading data: data/CIFAR-10/cifar-10-batches-py/data_batch_1\n",
      "Loading data: data/CIFAR-10/cifar-10-batches-py/data_batch_2\n",
      "Loading data: data/CIFAR-10/cifar-10-batches-py/data_batch_3\n",
      "Loading data: data/CIFAR-10/cifar-10-batches-py/data_batch_4\n",
      "Loading data: data/CIFAR-10/cifar-10-batches-py/data_batch_5\n",
      "Loading data: data/CIFAR-10/cifar-10-batches-py/test_batch\n"
     ]
    }
   ],
   "source": [
    "images_train, labels_train, class_train = cifar10.load_training_data()\n",
    "images_test, labels_test, class_test = cifar10.load_test_data()"
   ]
  },
  {
   "cell_type": "code",
   "execution_count": 12,
   "metadata": {},
   "outputs": [
    {
     "name": "stdout",
     "output_type": "stream",
     "text": [
      "Training set size:\t 50000\n",
      "Testing set size:\t 10000\n"
     ]
    }
   ],
   "source": [
    "print(\"Training set size:\\t\",len(images_train))\n",
    "print(\"Testing set size:\\t\",len(images_test))"
   ]
  },
  {
   "cell_type": "code",
   "execution_count": 15,
   "metadata": {},
   "outputs": [
    {
     "data": {
      "text/plain": [
       "(array([[0., 0., 0., ..., 0., 0., 0.],\n",
       "        [0., 0., 0., ..., 0., 0., 1.],\n",
       "        [0., 0., 0., ..., 0., 0., 1.],\n",
       "        ...,\n",
       "        [0., 0., 0., ..., 0., 0., 1.],\n",
       "        [0., 1., 0., ..., 0., 0., 0.],\n",
       "        [0., 1., 0., ..., 0., 0., 0.]]),\n",
       " array([[[[0.23137255, 0.24313725, 0.24705882],\n",
       "          [0.16862745, 0.18039216, 0.17647059],\n",
       "          [0.19607843, 0.18823529, 0.16862745],\n",
       "          ...,\n",
       "          [0.61960784, 0.51764706, 0.42352941],\n",
       "          [0.59607843, 0.49019608, 0.4       ],\n",
       "          [0.58039216, 0.48627451, 0.40392157]],\n",
       " \n",
       "         [[0.0627451 , 0.07843137, 0.07843137],\n",
       "          [0.        , 0.        , 0.        ],\n",
       "          [0.07058824, 0.03137255, 0.        ],\n",
       "          ...,\n",
       "          [0.48235294, 0.34509804, 0.21568627],\n",
       "          [0.46666667, 0.3254902 , 0.19607843],\n",
       "          [0.47843137, 0.34117647, 0.22352941]],\n",
       " \n",
       "         [[0.09803922, 0.09411765, 0.08235294],\n",
       "          [0.0627451 , 0.02745098, 0.        ],\n",
       "          [0.19215686, 0.10588235, 0.03137255],\n",
       "          ...,\n",
       "          [0.4627451 , 0.32941176, 0.19607843],\n",
       "          [0.47058824, 0.32941176, 0.19607843],\n",
       "          [0.42745098, 0.28627451, 0.16470588]],\n",
       " \n",
       "         ...,\n",
       " \n",
       "         [[0.81568627, 0.66666667, 0.37647059],\n",
       "          [0.78823529, 0.6       , 0.13333333],\n",
       "          [0.77647059, 0.63137255, 0.10196078],\n",
       "          ...,\n",
       "          [0.62745098, 0.52156863, 0.2745098 ],\n",
       "          [0.21960784, 0.12156863, 0.02745098],\n",
       "          [0.20784314, 0.13333333, 0.07843137]],\n",
       " \n",
       "         [[0.70588235, 0.54509804, 0.37647059],\n",
       "          [0.67843137, 0.48235294, 0.16470588],\n",
       "          [0.72941176, 0.56470588, 0.11764706],\n",
       "          ...,\n",
       "          [0.72156863, 0.58039216, 0.36862745],\n",
       "          [0.38039216, 0.24313725, 0.13333333],\n",
       "          [0.3254902 , 0.20784314, 0.13333333]],\n",
       " \n",
       "         [[0.69411765, 0.56470588, 0.45490196],\n",
       "          [0.65882353, 0.50588235, 0.36862745],\n",
       "          [0.70196078, 0.55686275, 0.34117647],\n",
       "          ...,\n",
       "          [0.84705882, 0.72156863, 0.54901961],\n",
       "          [0.59215686, 0.4627451 , 0.32941176],\n",
       "          [0.48235294, 0.36078431, 0.28235294]]],\n",
       " \n",
       " \n",
       "        [[[0.60392157, 0.69411765, 0.73333333],\n",
       "          [0.49411765, 0.5372549 , 0.53333333],\n",
       "          [0.41176471, 0.40784314, 0.37254902],\n",
       "          ...,\n",
       "          [0.35686275, 0.37254902, 0.27843137],\n",
       "          [0.34117647, 0.35294118, 0.27843137],\n",
       "          [0.30980392, 0.31764706, 0.2745098 ]],\n",
       " \n",
       "         [[0.54901961, 0.62745098, 0.6627451 ],\n",
       "          [0.56862745, 0.6       , 0.60392157],\n",
       "          [0.49019608, 0.49019608, 0.4627451 ],\n",
       "          ...,\n",
       "          [0.37647059, 0.38823529, 0.30588235],\n",
       "          [0.30196078, 0.31372549, 0.24313725],\n",
       "          [0.27843137, 0.28627451, 0.23921569]],\n",
       " \n",
       "         [[0.54901961, 0.60784314, 0.64313725],\n",
       "          [0.54509804, 0.57254902, 0.58431373],\n",
       "          [0.45098039, 0.45098039, 0.43921569],\n",
       "          ...,\n",
       "          [0.30980392, 0.32156863, 0.25098039],\n",
       "          [0.26666667, 0.2745098 , 0.21568627],\n",
       "          [0.2627451 , 0.27058824, 0.21568627]],\n",
       " \n",
       "         ...,\n",
       " \n",
       "         [[0.68627451, 0.65490196, 0.65098039],\n",
       "          [0.61176471, 0.60392157, 0.62745098],\n",
       "          [0.60392157, 0.62745098, 0.66666667],\n",
       "          ...,\n",
       "          [0.16470588, 0.13333333, 0.14117647],\n",
       "          [0.23921569, 0.20784314, 0.22352941],\n",
       "          [0.36470588, 0.3254902 , 0.35686275]],\n",
       " \n",
       "         [[0.64705882, 0.60392157, 0.50196078],\n",
       "          [0.61176471, 0.59607843, 0.50980392],\n",
       "          [0.62352941, 0.63137255, 0.55686275],\n",
       "          ...,\n",
       "          [0.40392157, 0.36470588, 0.37647059],\n",
       "          [0.48235294, 0.44705882, 0.47058824],\n",
       "          [0.51372549, 0.4745098 , 0.51372549]],\n",
       " \n",
       "         [[0.63921569, 0.58039216, 0.47058824],\n",
       "          [0.61960784, 0.58039216, 0.47843137],\n",
       "          [0.63921569, 0.61176471, 0.52156863],\n",
       "          ...,\n",
       "          [0.56078431, 0.52156863, 0.54509804],\n",
       "          [0.56078431, 0.5254902 , 0.55686275],\n",
       "          [0.56078431, 0.52156863, 0.56470588]]],\n",
       " \n",
       " \n",
       "        [[[1.        , 1.        , 1.        ],\n",
       "          [0.99215686, 0.99215686, 0.99215686],\n",
       "          [0.99215686, 0.99215686, 0.99215686],\n",
       "          ...,\n",
       "          [0.99215686, 0.99215686, 0.99215686],\n",
       "          [0.99215686, 0.99215686, 0.99215686],\n",
       "          [0.99215686, 0.99215686, 0.99215686]],\n",
       " \n",
       "         [[1.        , 1.        , 1.        ],\n",
       "          [1.        , 1.        , 1.        ],\n",
       "          [1.        , 1.        , 1.        ],\n",
       "          ...,\n",
       "          [1.        , 1.        , 1.        ],\n",
       "          [1.        , 1.        , 1.        ],\n",
       "          [1.        , 1.        , 1.        ]],\n",
       " \n",
       "         [[1.        , 1.        , 1.        ],\n",
       "          [0.99607843, 0.99607843, 0.99607843],\n",
       "          [0.99607843, 0.99607843, 0.99607843],\n",
       "          ...,\n",
       "          [0.99607843, 0.99607843, 0.99607843],\n",
       "          [0.99607843, 0.99607843, 0.99607843],\n",
       "          [0.99607843, 0.99607843, 0.99607843]],\n",
       " \n",
       "         ...,\n",
       " \n",
       "         [[0.44313725, 0.47058824, 0.43921569],\n",
       "          [0.43529412, 0.4627451 , 0.43529412],\n",
       "          [0.41176471, 0.43921569, 0.41568627],\n",
       "          ...,\n",
       "          [0.28235294, 0.31764706, 0.31372549],\n",
       "          [0.28235294, 0.31372549, 0.30980392],\n",
       "          [0.28235294, 0.31372549, 0.30980392]],\n",
       " \n",
       "         [[0.43529412, 0.4627451 , 0.43137255],\n",
       "          [0.40784314, 0.43529412, 0.40784314],\n",
       "          [0.38823529, 0.41568627, 0.38431373],\n",
       "          ...,\n",
       "          [0.26666667, 0.29411765, 0.28627451],\n",
       "          [0.2745098 , 0.29803922, 0.29411765],\n",
       "          [0.30588235, 0.32941176, 0.32156863]],\n",
       " \n",
       "         [[0.41568627, 0.44313725, 0.41176471],\n",
       "          [0.38823529, 0.41568627, 0.38431373],\n",
       "          [0.37254902, 0.4       , 0.36862745],\n",
       "          ...,\n",
       "          [0.30588235, 0.33333333, 0.3254902 ],\n",
       "          [0.30980392, 0.33333333, 0.3254902 ],\n",
       "          [0.31372549, 0.3372549 , 0.32941176]]],\n",
       " \n",
       " \n",
       "        ...,\n",
       " \n",
       " \n",
       "        [[[0.1372549 , 0.69803922, 0.92156863],\n",
       "          [0.15686275, 0.69019608, 0.9372549 ],\n",
       "          [0.16470588, 0.69019608, 0.94509804],\n",
       "          ...,\n",
       "          [0.38823529, 0.69411765, 0.85882353],\n",
       "          [0.30980392, 0.57647059, 0.77254902],\n",
       "          [0.34901961, 0.58039216, 0.74117647]],\n",
       " \n",
       "         [[0.22352941, 0.71372549, 0.91764706],\n",
       "          [0.17254902, 0.72156863, 0.98039216],\n",
       "          [0.19607843, 0.71764706, 0.94117647],\n",
       "          ...,\n",
       "          [0.61176471, 0.71372549, 0.78431373],\n",
       "          [0.55294118, 0.69411765, 0.80784314],\n",
       "          [0.45490196, 0.58431373, 0.68627451]],\n",
       " \n",
       "         [[0.38431373, 0.77254902, 0.92941176],\n",
       "          [0.25098039, 0.74117647, 0.98823529],\n",
       "          [0.27058824, 0.75294118, 0.96078431],\n",
       "          ...,\n",
       "          [0.7372549 , 0.76470588, 0.80784314],\n",
       "          [0.46666667, 0.52941176, 0.57647059],\n",
       "          [0.23921569, 0.30980392, 0.35294118]],\n",
       " \n",
       "         ...,\n",
       " \n",
       "         [[0.28627451, 0.30980392, 0.30196078],\n",
       "          [0.20784314, 0.24705882, 0.26666667],\n",
       "          [0.21176471, 0.26666667, 0.31372549],\n",
       "          ...,\n",
       "          [0.06666667, 0.15686275, 0.25098039],\n",
       "          [0.08235294, 0.14117647, 0.2       ],\n",
       "          [0.12941176, 0.18823529, 0.19215686]],\n",
       " \n",
       "         [[0.23921569, 0.26666667, 0.29411765],\n",
       "          [0.21568627, 0.2745098 , 0.3372549 ],\n",
       "          [0.22352941, 0.30980392, 0.40392157],\n",
       "          ...,\n",
       "          [0.09411765, 0.18823529, 0.28235294],\n",
       "          [0.06666667, 0.1372549 , 0.20784314],\n",
       "          [0.02745098, 0.09019608, 0.1254902 ]],\n",
       " \n",
       "         [[0.17254902, 0.21960784, 0.28627451],\n",
       "          [0.18039216, 0.25882353, 0.34509804],\n",
       "          [0.19215686, 0.30196078, 0.41176471],\n",
       "          ...,\n",
       "          [0.10588235, 0.20392157, 0.30196078],\n",
       "          [0.08235294, 0.16862745, 0.25882353],\n",
       "          [0.04705882, 0.12156863, 0.19607843]]],\n",
       " \n",
       " \n",
       "        [[[0.74117647, 0.82745098, 0.94117647],\n",
       "          [0.72941176, 0.81568627, 0.9254902 ],\n",
       "          [0.7254902 , 0.81176471, 0.92156863],\n",
       "          ...,\n",
       "          [0.68627451, 0.76470588, 0.87843137],\n",
       "          [0.6745098 , 0.76078431, 0.87058824],\n",
       "          [0.6627451 , 0.76078431, 0.8627451 ]],\n",
       " \n",
       "         [[0.76078431, 0.82352941, 0.9372549 ],\n",
       "          [0.74901961, 0.81176471, 0.9254902 ],\n",
       "          [0.74509804, 0.80784314, 0.92156863],\n",
       "          ...,\n",
       "          [0.67843137, 0.75294118, 0.8627451 ],\n",
       "          [0.67058824, 0.74901961, 0.85490196],\n",
       "          [0.65490196, 0.74509804, 0.84705882]],\n",
       " \n",
       "         [[0.81568627, 0.85882353, 0.95686275],\n",
       "          [0.80392157, 0.84705882, 0.94117647],\n",
       "          [0.8       , 0.84313725, 0.9372549 ],\n",
       "          ...,\n",
       "          [0.68627451, 0.74901961, 0.85098039],\n",
       "          [0.6745098 , 0.74509804, 0.84705882],\n",
       "          [0.6627451 , 0.74901961, 0.84313725]],\n",
       " \n",
       "         ...,\n",
       " \n",
       "         [[0.81176471, 0.78039216, 0.70980392],\n",
       "          [0.79607843, 0.76470588, 0.68627451],\n",
       "          [0.79607843, 0.76862745, 0.67843137],\n",
       "          ...,\n",
       "          [0.52941176, 0.51764706, 0.49803922],\n",
       "          [0.63529412, 0.61960784, 0.58823529],\n",
       "          [0.65882353, 0.63921569, 0.59215686]],\n",
       " \n",
       "         [[0.77647059, 0.74509804, 0.66666667],\n",
       "          [0.74117647, 0.70980392, 0.62352941],\n",
       "          [0.70588235, 0.6745098 , 0.57647059],\n",
       "          ...,\n",
       "          [0.69803922, 0.67058824, 0.62745098],\n",
       "          [0.68627451, 0.6627451 , 0.61176471],\n",
       "          [0.68627451, 0.6627451 , 0.60392157]],\n",
       " \n",
       "         [[0.77647059, 0.74117647, 0.67843137],\n",
       "          [0.74117647, 0.70980392, 0.63529412],\n",
       "          [0.69803922, 0.66666667, 0.58431373],\n",
       "          ...,\n",
       "          [0.76470588, 0.72156863, 0.6627451 ],\n",
       "          [0.76862745, 0.74117647, 0.67058824],\n",
       "          [0.76470588, 0.74509804, 0.67058824]]],\n",
       " \n",
       " \n",
       "        [[[0.89803922, 0.89803922, 0.9372549 ],\n",
       "          [0.9254902 , 0.92941176, 0.96862745],\n",
       "          [0.91764706, 0.9254902 , 0.96862745],\n",
       "          ...,\n",
       "          [0.85098039, 0.85882353, 0.91372549],\n",
       "          [0.86666667, 0.8745098 , 0.91764706],\n",
       "          [0.87058824, 0.8745098 , 0.91372549]],\n",
       " \n",
       "         [[0.87058824, 0.86666667, 0.89803922],\n",
       "          [0.9372549 , 0.9372549 , 0.97647059],\n",
       "          [0.91372549, 0.91764706, 0.96470588],\n",
       "          ...,\n",
       "          [0.8745098 , 0.8745098 , 0.9254902 ],\n",
       "          [0.89019608, 0.89411765, 0.93333333],\n",
       "          [0.82352941, 0.82745098, 0.8627451 ]],\n",
       " \n",
       "         [[0.83529412, 0.80784314, 0.82745098],\n",
       "          [0.91764706, 0.90980392, 0.9372549 ],\n",
       "          [0.90588235, 0.91372549, 0.95686275],\n",
       "          ...,\n",
       "          [0.8627451 , 0.8627451 , 0.90980392],\n",
       "          [0.8627451 , 0.85882353, 0.90980392],\n",
       "          [0.79215686, 0.79607843, 0.84313725]],\n",
       " \n",
       "         ...,\n",
       " \n",
       "         [[0.58823529, 0.56078431, 0.52941176],\n",
       "          [0.54901961, 0.52941176, 0.49803922],\n",
       "          [0.51764706, 0.49803922, 0.47058824],\n",
       "          ...,\n",
       "          [0.87843137, 0.87058824, 0.85490196],\n",
       "          [0.90196078, 0.89411765, 0.88235294],\n",
       "          [0.94509804, 0.94509804, 0.93333333]],\n",
       " \n",
       "         [[0.5372549 , 0.51764706, 0.49411765],\n",
       "          [0.50980392, 0.49803922, 0.47058824],\n",
       "          [0.49019608, 0.4745098 , 0.45098039],\n",
       "          ...,\n",
       "          [0.70980392, 0.70588235, 0.69803922],\n",
       "          [0.79215686, 0.78823529, 0.77647059],\n",
       "          [0.83137255, 0.82745098, 0.81176471]],\n",
       " \n",
       "         [[0.47843137, 0.46666667, 0.44705882],\n",
       "          [0.4627451 , 0.45490196, 0.43137255],\n",
       "          [0.47058824, 0.45490196, 0.43529412],\n",
       "          ...,\n",
       "          [0.70196078, 0.69411765, 0.67843137],\n",
       "          [0.64313725, 0.64313725, 0.63529412],\n",
       "          [0.63921569, 0.63921569, 0.63137255]]]]),\n",
       " array([6, 9, 9, ..., 9, 1, 1]))"
      ]
     },
     "execution_count": 15,
     "metadata": {},
     "output_type": "execute_result"
    }
   ],
   "source": [
    "class_train, images_train"
   ]
  },
  {
   "cell_type": "code",
   "execution_count": 17,
   "metadata": {},
   "outputs": [],
   "source": [
    "# Hight and width of the images\n",
    "IMAGE_SIZE = 32\n",
    "# 3 channels, Red, Green and Blue\n",
    "CHANNELS = 3\n",
    "# Number of epochs\n",
    "NUM_EPOCH = 150\n",
    "# learning rate\n",
    "LEARN_RATE = 1.0e-4"
   ]
  },
  {
   "cell_type": "markdown",
   "metadata": {},
   "source": [
    "# Define a better CNN model"
   ]
  },
  {
   "cell_type": "code",
   "execution_count": 18,
   "metadata": {},
   "outputs": [],
   "source": [
    "def pure_cnn_model():\n",
    "    \n",
    "    model = Sequential()\n",
    "    \n",
    "    model.add(Conv2D(96, (3, 3), activation='relu', padding = 'same', input_shape=(IMAGE_SIZE,IMAGE_SIZE,CHANNELS)))    \n",
    "    model.add(Dropout(0.2))\n",
    "    \n",
    "    model.add(Conv2D(96, (3, 3), activation='relu', padding = 'same'))  \n",
    "    model.add(Conv2D(96, (3, 3), activation='relu', padding = 'same', strides = 2))    \n",
    "    model.add(Dropout(0.5))\n",
    "    \n",
    "    model.add(Conv2D(192, (3, 3), activation='relu', padding = 'same'))    \n",
    "    model.add(Conv2D(192, (3, 3), activation='relu', padding = 'same'))\n",
    "    model.add(Conv2D(192, (3, 3), activation='relu', padding = 'same', strides = 2))    \n",
    "    model.add(Dropout(0.5))    \n",
    "    \n",
    "    model.add(Conv2D(192, (3, 3), padding = 'same'))\n",
    "    model.add(Activation('relu'))\n",
    "    model.add(Conv2D(192, (1, 1),padding='valid'))\n",
    "    model.add(Activation('relu'))\n",
    "    model.add(Conv2D(10, (1, 1), padding='valid'))\n",
    "\n",
    "    model.add(GlobalAveragePooling2D())\n",
    "    \n",
    "    model.add(Activation('softmax'))\n",
    "\n",
    "    model.summary()\n",
    "    \n",
    "    return model"
   ]
  },
  {
   "cell_type": "code",
   "execution_count": 19,
   "metadata": {},
   "outputs": [
    {
     "name": "stdout",
     "output_type": "stream",
     "text": [
      "WARNING:tensorflow:From /usr/local/anaconda3/lib/python3.7/site-packages/tensorflow/python/ops/resource_variable_ops.py:435: colocate_with (from tensorflow.python.framework.ops) is deprecated and will be removed in a future version.\n",
      "Instructions for updating:\n",
      "Colocations handled automatically by placer.\n",
      "Model: \"sequential_1\"\n",
      "_________________________________________________________________\n",
      "Layer (type)                 Output Shape              Param #   \n",
      "=================================================================\n",
      "conv2d_1 (Conv2D)            (None, 32, 32, 96)        2688      \n",
      "_________________________________________________________________\n",
      "dropout_1 (Dropout)          (None, 32, 32, 96)        0         \n",
      "_________________________________________________________________\n",
      "conv2d_2 (Conv2D)            (None, 32, 32, 96)        83040     \n",
      "_________________________________________________________________\n",
      "conv2d_3 (Conv2D)            (None, 16, 16, 96)        83040     \n",
      "_________________________________________________________________\n",
      "dropout_2 (Dropout)          (None, 16, 16, 96)        0         \n",
      "_________________________________________________________________\n",
      "conv2d_4 (Conv2D)            (None, 16, 16, 192)       166080    \n",
      "_________________________________________________________________\n",
      "conv2d_5 (Conv2D)            (None, 16, 16, 192)       331968    \n",
      "_________________________________________________________________\n",
      "conv2d_6 (Conv2D)            (None, 8, 8, 192)         331968    \n",
      "_________________________________________________________________\n",
      "dropout_3 (Dropout)          (None, 8, 8, 192)         0         \n",
      "_________________________________________________________________\n",
      "conv2d_7 (Conv2D)            (None, 8, 8, 192)         331968    \n",
      "_________________________________________________________________\n",
      "activation_1 (Activation)    (None, 8, 8, 192)         0         \n",
      "_________________________________________________________________\n",
      "conv2d_8 (Conv2D)            (None, 8, 8, 192)         37056     \n",
      "_________________________________________________________________\n",
      "activation_2 (Activation)    (None, 8, 8, 192)         0         \n",
      "_________________________________________________________________\n",
      "conv2d_9 (Conv2D)            (None, 8, 8, 10)          1930      \n",
      "_________________________________________________________________\n",
      "global_average_pooling2d_1 ( (None, 10)                0         \n",
      "_________________________________________________________________\n",
      "activation_3 (Activation)    (None, 10)                0         \n",
      "=================================================================\n",
      "Total params: 1,369,738\n",
      "Trainable params: 1,369,738\n",
      "Non-trainable params: 0\n",
      "_________________________________________________________________\n"
     ]
    }
   ],
   "source": [
    "model = pure_cnn_model()"
   ]
  },
  {
   "cell_type": "code",
   "execution_count": null,
   "metadata": {},
   "outputs": [],
   "source": []
  },
  {
   "cell_type": "markdown",
   "metadata": {},
   "source": [
    "# Configure the model for training"
   ]
  },
  {
   "cell_type": "code",
   "execution_count": 20,
   "metadata": {},
   "outputs": [],
   "source": [
    "model.compile(loss='categorical_crossentropy', # Better loss function for neural networks\n",
    "              optimizer=Adam(lr=LEARN_RATE), # Adam optimizer with 1.0e-4 learning rate\n",
    "              metrics = ['accuracy']) # Metrics to be evaluated by the model\n"
   ]
  },
  {
   "cell_type": "markdown",
   "metadata": {},
   "source": [
    "# Fit the model on the data provided"
   ]
  },
  {
   "cell_type": "code",
   "execution_count": null,
   "metadata": {},
   "outputs": [
    {
     "name": "stdout",
     "output_type": "stream",
     "text": [
      "23936/50000 [=============>................] - ETA: 3:58 - loss: 2.1455 - accuracy: 0.1769"
     ]
    }
   ],
   "source": [
    "model_details = model.fit(images_train, class_train,\n",
    "                    batch_size = 128,\n",
    "                    epochs = NUM_EPOCH, # number of iterations\n",
    "                    validation_data= (images_test, class_test),\n",
    "                    verbose=1)\n"
   ]
  },
  {
   "cell_type": "markdown",
   "metadata": {},
   "source": []
  },
  {
   "cell_type": "markdown",
   "metadata": {},
   "source": [
    "# Evaluate the model"
   ]
  },
  {
   "cell_type": "code",
   "execution_count": null,
   "metadata": {},
   "outputs": [],
   "source": [
    "scores = model.evaluate(images_test, class_test, verbose=0)\n",
    "print(\"Accuracy: %.2f%%\" % (scores[1]*100))"
   ]
  },
  {
   "cell_type": "markdown",
   "metadata": {},
   "source": [
    "# Model accuracy and loss plots"
   ]
  },
  {
   "cell_type": "code",
   "execution_count": null,
   "metadata": {},
   "outputs": [],
   "source": [
    "def plot_model(model_details):\n",
    "\n",
    "    # Create sub-plots\n",
    "    fig, axs = plt.subplots(1,2,figsize=(15,5))\n",
    "    \n",
    "    # Summarize history for accuracy\n",
    "    axs[0].plot(range(1,len(model_details.history['acc'])+1),model_details.history['acc'])\n",
    "    axs[0].plot(range(1,len(model_details.history['val_acc'])+1),model_details.history['val_acc'])\n",
    "    axs[0].set_title('Model Accuracy')\n",
    "    axs[0].set_ylabel('Accuracy')\n",
    "    axs[0].set_xlabel('Epoch')\n",
    "    axs[0].set_xticks(np.arange(1,len(model_details.history['acc'])+1),len(model_details.history['acc'])/10)\n",
    "    axs[0].legend(['train', 'val'], loc='best')\n",
    "    \n",
    "    # Summarize history for loss\n",
    "    axs[1].plot(range(1,len(model_details.history['loss'])+1),model_details.history['loss'])\n",
    "    axs[1].plot(range(1,len(model_details.history['val_loss'])+1),model_details.history['val_loss'])\n",
    "    axs[1].set_title('Model Loss')\n",
    "    axs[1].set_ylabel('Loss')\n",
    "    axs[1].set_xlabel('Epoch')\n",
    "    axs[1].set_xticks(np.arange(1,len(model_details.history['loss'])+1),len(model_details.history['loss'])/10)\n",
    "    axs[1].legend(['train', 'val'], loc='best')\n",
    "    \n",
    "    # Show the plot\n",
    "    plt.show()\n",
    "\n",
    "plot_model(model_details)"
   ]
  },
  {
   "cell_type": "markdown",
   "metadata": {},
   "source": [
    "#  Augment the data"
   ]
  },
  {
   "cell_type": "code",
   "execution_count": 63,
   "metadata": {},
   "outputs": [],
   "source": [
    "datagen = ImageDataGenerator(\n",
    "    featurewise_center=False,  # set input mean to 0 over the dataset\n",
    "    samplewise_center=False,  # set each sample mean to 0\n",
    "    featurewise_std_normalization=False,  # divide inputs by std of the dataset\n",
    "    samplewise_std_normalization=False,  # divide each input by its std\n",
    "    zca_whitening=False,  # apply ZCA whitening\n",
    "    rotation_range=45,  # randomly rotate images in the range (degrees, 0 to 180)\n",
    "    width_shift_range=0.2,  # randomly shift images horizontally (fraction of total width)\n",
    "    height_shift_range=0.2,  # randomly shift images vertically (fraction of total height)\n",
    "    horizontal_flip=True,  # randomly flip images\n",
    "    vertical_flip=False)  # randomly flip images\n",
    "\n",
    "datagen.fit(images_train)"
   ]
  },
  {
   "cell_type": "markdown",
   "metadata": {},
   "source": [
    "# The above code augments the dataset to have random shifts, rotations and flips, thus increasing the size of the dataset.\n",
    "\n",
    "# Build model again"
   ]
  },
  {
   "cell_type": "code",
   "execution_count": null,
   "metadata": {},
   "outputs": [],
   "source": [
    "augmented_model = pure_cnn_model()"
   ]
  },
  {
   "cell_type": "code",
   "execution_count": null,
   "metadata": {},
   "outputs": [],
   "source": [
    "augmented_model.compile(loss='categorical_crossentropy', # Better loss function for neural networks\n",
    "              optimizer=Adam(lr=LEARN_RATE), # Adam optimizer with 1.0e-4 learning rate\n",
    "              metrics = ['accuracy']) # Metrics to be evaluated by the model"
   ]
  },
  {
   "cell_type": "code",
   "execution_count": null,
   "metadata": {},
   "outputs": [],
   "source": [
    "augmented_model_details = augmented_model.fit_generator(datagen.flow(images_train, class_train, batch_size = 32),\n",
    "                    steps_per_epoch = len(images_train) / 32, # number of samples per gradient update\n",
    "                    epochs = NUM_EPOCH, # number of iterations\n",
    "                    validation_data= (images_test, class_test),\n",
    "                    callbacks=[augmented_checkpoint],\n",
    "                    verbose=1)"
   ]
  },
  {
   "cell_type": "markdown",
   "metadata": {},
   "source": [
    "# Predictions\n",
    "# Predict class for test set images"
   ]
  },
  {
   "cell_type": "code",
   "execution_count": null,
   "metadata": {},
   "outputs": [],
   "source": [
    "correct, labels_pred = predict_classes(augmented_model, images_test, labels_test)"
   ]
  },
  {
   "cell_type": "code",
   "execution_count": null,
   "metadata": {},
   "outputs": [],
   "source": [
    "num_images = len(correct)\n",
    "print(\"Accuracy: %.2f%%\" % ((sum(correct)*100)/num_images))"
   ]
  },
  {
   "cell_type": "markdown",
   "metadata": {},
   "source": [
    "# Perform on very low epochs (mere pc me itni power nhi hai) so my pridiction is  not good but when you perform this in 300 to 350 epochs this can be improve very much hope you Understand "
   ]
  }
 ],
 "metadata": {
  "anaconda-cloud": {},
  "kernelspec": {
   "display_name": "Python 3",
   "language": "python",
   "name": "python3"
  },
  "language_info": {
   "codemirror_mode": {
    "name": "ipython",
    "version": 3
   },
   "file_extension": ".py",
   "mimetype": "text/x-python",
   "name": "python",
   "nbconvert_exporter": "python",
   "pygments_lexer": "ipython3",
   "version": "3.7.7"
  }
 },
 "nbformat": 4,
 "nbformat_minor": 1
}
